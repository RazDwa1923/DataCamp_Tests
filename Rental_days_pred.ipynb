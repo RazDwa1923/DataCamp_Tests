{
 "cells": [
  {
   "metadata": {},
   "cell_type": "code",
   "outputs": [],
   "execution_count": null,
   "source": [
    "## Project Instructions\n",
    "\n",
    "In this project, you will use regression models to predict the number of days a customer rents DVDs for.\n",
    "\n",
    "As with most data science projects, you will need to pre-process the data provided, in this case, a csv file called rental_info.csv. \n",
    "\n",
    "Specifically, you need to:\n",
    "\n",
    "- Read in the csv file rental_info.csv using pandas.\n",
    "- Create a column named \"rental_length_days\" using the columns \"return_date\" and \"rental_date\", and add it to the pandas DataFrame. This column should contain information on how many days a DVD has been rented by a customer.\n",
    "- Create two columns of dummy variables from \"special_features\", which takes the value of 1 when:\n",
    "    - The value is \"Deleted Scenes\", storing as a column called \"deleted_scenes\".\n",
    "    - The value is \"Behind the Scenes\", storing as a column called \"behind_the_scenes\".\n",
    "- Make a pandas DataFrame called X containing all the appropriate features you can use to run the regression models, avoiding columns that leak data about the target.\n",
    "- Choose the \"rental_length_days\" as the target column and save it as a pandas Series called y.\n",
    "\n",
    " Following the preprocessing you will need to:\n",
    "\n",
    "1. Split the data into X_train, y_train, X_test, and y_test train and test sets, avoiding any features that leak data about the target variable, and include 20% of the total data in the test set.\n",
    "1. Set random_state to 9 whenever you use a function/method involving randomness, for example, when doing a test-train split.\n",
    "1. Recommend a model yielding a mean squared error (MSE) less than 3 on the test set\n",
    "\n",
    "1. Save the model you would recommend as a variable named best_model, and save its MSE on the test set as best_mse."
   ],
   "id": "1b2619e6211785e0"
  },
  {
   "metadata": {},
   "cell_type": "code",
   "outputs": [],
   "execution_count": null,
   "source": [
    "# Importing the necessary libraries\n",
    "import pandas as pd\n",
    "import matplotlib.pyplot as plt\n",
    "from sklearn.model_selection import train_test_split\n",
    "from sklearn.linear_model import LinearRegression\n",
    "from sklearn.linear_model import Lasso\n",
    "from sklearn.metrics import mean_squared_error\n",
    "from sklearn.ensemble import RandomForestRegressor\n"
   ],
   "id": "6f1a62e808b683aa"
  },
  {
   "metadata": {},
   "cell_type": "code",
   "outputs": [],
   "execution_count": null,
   "source": [
    "# reading CSV file\n",
    "rental_data = pd.read_csv('Datasets/DVD_rental/rental_info.csv')\n",
    "\n",
    "# checking the first few rows of the dataframe\n",
    "rental_data.head()\n"
   ],
   "id": "559fa8691234ab5"
  },
  {
   "metadata": {},
   "cell_type": "code",
   "outputs": [],
   "execution_count": null,
   "source": [
    "# converting the date columns to datetime\n",
    "rental_data['rental_date'] = pd.to_datetime(rental_data['rental_date'])\n",
    "rental_data['return_date'] = pd.to_datetime(rental_data['return_date'])\n",
    "\n",
    "# creating a new column with the rental length. The coulmn will be the difference between the return and rental date in number of days\n",
    "rental_data['rental_length_days'] = (rental_data['return_date'] - rental_data['rental_date']).dt.days\n"
   ],
   "id": "b667fed1f369d3ba"
  },
  {
   "metadata": {},
   "cell_type": "code",
   "outputs": [],
   "execution_count": null,
   "source": [
    "# create variable called “behind_the_scenes” and set it to 1 if the “special_features” column contains “Behind the Scenes” and 0 otherwise\n",
    "rental_data['behind_the_scenes'] = rental_data['special_features'].apply(lambda x: 1 if 'Behind the Scenes' in x else 0)\n",
    "\n",
    "# create variable called “deleted_scenes” and set it to 1 if the “special_features” column contains “Deleted Scenes” and 0 otherwise\n",
    "rental_data['deleted_scenes'] = rental_data['special_features'].apply(lambda x: 1 if 'Deleted Scenes' in x else 0)\n",
    "                                                                      \n",
    "                                                                      \n",
    "            "
   ],
   "id": "e0177d540550506c"
  },
  {
   "metadata": {},
   "cell_type": "code",
   "outputs": [],
   "execution_count": null,
   "source": [
    "# create a new dataframe with the appropriate features by defining the columns to drop\n",
    "columns_to_drop = ['rental_date', 'return_date', 'special_features','rental_length_days']\n",
    "\n",
    "# create a new dataframe with the appropriate features\n",
    "X = rental_data.drop(columns_to_drop, axis=1)\n",
    "\n",
    "# create a pandas Series called y containing the target variable\n",
    "y = rental_data['rental_length_days']"
   ],
   "id": "44ada7795d19c8f9"
  },
  {
   "metadata": {},
   "cell_type": "code",
   "outputs": [],
   "execution_count": null,
   "source": [
    "# split dataset into training and test sets for X and y\n",
    "X_train, X_test, y_train, y_test = train_test_split(X, y, test_size=0.2, random_state=9)"
   ],
   "id": "6b4bda00b1b3c1dc"
  },
  {
   "metadata": {},
   "cell_type": "code",
   "outputs": [],
   "execution_count": null,
   "source": [
    "# create a linear regression model and measure the mean squared error on the test set\n",
    "linear_model = LinearRegression()\n",
    "linear_model.fit(X_train, y_train)\n",
    "y_pred = linear_model.predict(X_test)\n",
    "mse = mean_squared_error(y_test, y_pred)\n",
    "print(mse)\n",
    "\n",
    "# view the model's r squared value\n",
    "print(linear_model.score(X_test, y_test))\n"
   ],
   "id": "8673f2d980a9451e"
  },
  {
   "metadata": {},
   "cell_type": "code",
   "outputs": [],
   "execution_count": null,
   "source": [
    "# create a lasso regression model and test which alpha level yields the lowest MSE. Testing following alpha levels: 0.01, 1, 10, 20, 50, 100\n",
    "alphas = [0.001, 0.01, 0.5, 1, 2, 5]\n",
    "for alpha in alphas:\n",
    "    lasso = Lasso(alpha=alpha, max_iter=100000)\n",
    "    lasso.fit(X_train, y_train)\n",
    "    y_pred = lasso.predict(X_test)\n",
    "    mse = mean_squared_error(y_test, y_pred)\n",
    "    print(alpha, mse)"
   ],
   "id": "8aa3d5cae8344a6d"
  },
  {
   "metadata": {},
   "cell_type": "code",
   "outputs": [],
   "execution_count": null,
   "source": [
    "# using lasso regression model with alpha = 0.001 show which features should be selected\n",
    "names = X.columns\n",
    "lasso = Lasso(alpha=0.001)\n",
    "lasso_coef = lasso.fit(X, y).coef_\n",
    "plt.bar(names, lasso_coef)\n",
    "plt.xticks(rotation=90)\n",
    "plt.show()"
   ],
   "id": "c88e5a0d85db9a83"
  },
  {
   "metadata": {},
   "cell_type": "code",
   "outputs": [],
   "execution_count": null,
   "source": [
    "\n",
    "# choose only the features that are not equal to 0 in the lasso regression model\n",
    "best_features = names[lasso_coef != 0]\n",
    "\n",
    "# create a new dataframe with the best features\n",
    "X_lasso = X[best_features]\n",
    "\n",
    "# run linear regression model on the best features and measure the mean squared error on the test set\n",
    "X_train, X_test, y_train, y_test = train_test_split(X_lasso, y, test_size=0.2, random_state=9)\n",
    "linear_model.fit(X_train, y_train)\n",
    "y_pred = linear_model.predict(X_test)\n",
    "best_mse = mean_squared_error(y_test, y_pred)\n",
    "print(best_mse)\n",
    "\n",
    "# print the r squared value\n",
    "print(linear_model.score(X_test, y_test))"
   ],
   "id": "311eba58f46517bc"
  },
  {
   "metadata": {},
   "cell_type": "code",
   "outputs": [],
   "execution_count": null,
   "source": [
    "# fit randometree regressor model\n",
    "rf = RandomForestRegressor(n_estimators=50, max_depth=30, min_samples_leaf=1, min_samples_split=2, random_state=9)\n",
    "rf.fit(X_train, y_train)\n",
    "y_pred = rf.predict(X_test)\n",
    "best_mse = mean_squared_error(y_test, y_pred)\n",
    "print(best_mse)\n",
    "\n",
    "# print the r squared value\n",
    "print(rf.score(X_test, y_test))\n",
    "\n",
    "# save the model and its mse\n",
    "best_model = rf \n",
    "best_mse = best_mse\n"
   ],
   "id": "6a36c422c1e29a8f"
  },
  {
   "metadata": {},
   "cell_type": "code",
   "outputs": [],
   "execution_count": null,
   "source": [
    "# fine tuning the RandomTree Regressor model\n",
    "from sklearn.model_selection import GridSearchCV\n",
    "\n",
    "# Define the parameter grid\n",
    "param_grid = {\n",
    "    'n_estimators': [10, 20, 50],\n",
    "    'max_depth': [None, 10, 20],\n",
    "    'min_samples_split': [2, 5, 10],\n",
    "    'min_samples_leaf': [1, 2, 4]\n",
    "}\n",
    "\n",
    "# Initialize a GridSearchCV object\n",
    "grid_search = GridSearchCV(estimator=RandomForestRegressor(random_state=9), param_grid=param_grid, scoring='neg_mean_squared_error', cv=3, n_jobs=-1, verbose=2)\n",
    "\n",
    "# Fit the GridSearchCV object on the training data\n",
    "grid_search.fit(X_train, y_train)\n",
    "\n",
    "# Get the best parameters and the best score\n",
    "best_params = grid_search.best_params_\n",
    "best_score = grid_search.best_score_\n",
    "\n",
    "print(f\"Best parameters: {best_params}\")\n",
    "print(f\"Best score: {best_score}\")"
   ],
   "id": "3b6dcfd4852ddaa8"
  }
 ],
 "metadata": {},
 "nbformat": 5,
 "nbformat_minor": 9
}
